{
 "metadata": {
  "name": "",
  "signature": "sha256:4c2e6f7f1f1ebc28a465190979e0535f05b0fe41d1a37fa96b0a3766a1a6cff6"
 },
 "nbformat": 3,
 "nbformat_minor": 0,
 "worksheets": [
  {
   "cells": [
    {
     "cell_type": "markdown",
     "metadata": {},
     "source": [
      "####A modified version of Lauren Archer's Simple CSV Geocoder located at https://github.com/laurenarcher/SimpleCsvGeocoder\n",
      "\n",
      "####In this instance, it is used to geocode approximately 620 addresses for the Code for Sacramento WICIT project hosted live at www.findwic.com\n",
      "\n",
      "####Data limitations and notes: The Google Maps Geocoding API allows 2500 address requests per day per IP address or API key, unless you are a Google Work customer.  "
     ]
    },
    {
     "cell_type": "code",
     "collapsed": false,
     "input": [
      "import csv\n",
      "import time\n",
      "from pygeocoder import Geocoder"
     ],
     "language": "python",
     "metadata": {},
     "outputs": [],
     "prompt_number": 1
    },
    {
     "cell_type": "code",
     "collapsed": false,
     "input": [
      "input_file  = open('API_WIC_SIGNUP_LOCS_TEST.csv', 'rU') #Open your .csv file\n",
      "output_file = open('WIC_LOCS_GEO.csv', 'w') #Make an empty .csv This is where your geocodes will end up.\n",
      "data        = csv.reader(input_file)        #Read in the raw csv using the csv library \"reader\" function\n",
      "\n",
      "for line in data:\n",
      "    if line[0]!='site': #this excludes the header row, which starts with \"site\"\n",
      "        full_address=line[1]+\", \"+line[2]+\" \"+line[3] #build the input string\n",
      "        print \"Sent to Google:\",full_address\n",
      "        results=Geocoder.geocode(full_address)\n",
      "        time.sleep(.21)\n",
      "output_file.close()"
     ],
     "language": "python",
     "metadata": {},
     "outputs": [
      {
       "output_type": "stream",
       "stream": "stdout",
       "text": [
        "Sent to Google: 7200 Bancroft Avenue Suite 204, Oakland 94605\n",
        "[{u'geometry': {u'location': {u'lat': 37.7671679, u'lng': -122.1767049}, u'viewport': {u'northeast': {u'lat': 37.7685168802915, u'lng': -122.1753559197085}, u'southwest': {u'lat': 37.7658189197085, u'lng': -122.1780538802915}}, u'location_type': u'ROOFTOP'}, u'formatted_address': u'Eastmont Town Center, 7200 Bancroft Avenue #204, Oakland, CA 94605, USA', u'place_id': u'EkdFYXN0bW9udCBUb3duIENlbnRlciwgNzIwMCBCYW5jcm9mdCBBdmVudWUgIzIwNCwgT2FrbGFuZCwgQ0EgOTQ2MDUsIFVTQQ', u'address_components': [{u'long_name': u'204', u'types': [u'subpremise'], u'short_name': u'204'}, {u'long_name': u'Eastmont Town Center', u'types': [u'establishment'], u'short_name': u'Eastmont Town Center'}, {u'long_name': u'7200', u'types': [u'street_number'], u'short_name': u'7200'}, {u'long_name': u'Bancroft Avenue', u'types': [u'route'], u'short_name': u'Bancroft Ave'}, {u'long_name': u'Bancroft Business', u'types': [u'neighborhood', u'political'], u'short_name': u'Bancroft Business'}, {u'long_name': u'Oakland', u'types': [u'locality', u'political'], u'short_name': u'Oakland'}, {u'long_name': u'Alameda County', u'types': [u'administrative_area_level_2', u'political'], u'short_name': u'Alameda County'}, {u'long_name': u'California', u'types': [u'administrative_area_level_1', u'political'], u'short_name': u'CA'}, {u'long_name': u'United States', u'types': [u'country', u'political'], u'short_name': u'US'}, {u'long_name': u'94605', u'types': [u'postal_code'], u'short_name': u'94605'}], u'partial_match': True, u'types': [u'subpremise']}]"
       ]
      },
      {
       "output_type": "stream",
       "stream": "stdout",
       "text": [
        "\n",
        "Sent to Google:"
       ]
      },
      {
       "output_type": "stream",
       "stream": "stdout",
       "text": [
        " 39155 Liberty Street Suite H-840, Fremont 94538\n",
        "[{u'geometry': {u'location': {u'lat': 37.5507433, u'lng': -121.9832713}, u'viewport': {u'northeast': {u'lat': 37.5520922802915, u'lng': -121.9819223197085}, u'southwest': {u'lat': 37.5493943197085, u'lng': -121.9846202802915}}, u'location_type': u'ROOFTOP'}, u'formatted_address': u'Town Fair Shopping Center, 39155 Liberty Street #840, Fremont, CA 94538, USA', u'place_id': u'EkxUb3duIEZhaXIgU2hvcHBpbmcgQ2VudGVyLCAzOTE1NSBMaWJlcnR5IFN0cmVldCAjODQwLCBGcmVtb250LCBDQSA5NDUzOCwgVVNB', u'address_components': [{u'long_name': u'840', u'types': [u'subpremise'], u'short_name': u'840'}, {u'long_name': u'Town Fair Shopping Center', u'types': [u'establishment'], u'short_name': u'Town Fair Shopping Center'}, {u'long_name': u'39155', u'types': [u'street_number'], u'short_name': u'39155'}, {u'long_name': u'Liberty Street', u'types': [u'route'], u'short_name': u'Liberty St'}, {u'long_name': u'Central District', u'types': [u'neighborhood', u'political'], u'short_name': u'Central District'}, {u'long_name': u'Fremont', u'types': [u'locality', u'political'], u'short_name': u'Fremont'}, {u'long_name': u'Alameda County', u'types': [u'administrative_area_level_2', u'political'], u'short_name': u'Alameda County'}, {u'long_name': u'California', u'types': [u'administrative_area_level_1', u'political'], u'short_name': u'CA'}, {u'long_name': u'United States', u'types': [u'country', u'political'], u'short_name': u'US'}, {u'long_name': u'94538', u'types': [u'postal_code'], u'short_name': u'94538'}], u'partial_match': True, u'types': [u'subpremise']}]"
       ]
      },
      {
       "output_type": "stream",
       "stream": "stdout",
       "text": [
        "\n"
       ]
      }
     ],
     "prompt_number": 5
    },
    {
     "cell_type": "code",
     "collapsed": false,
     "input": [
      "input_file  = open('API_WIC_SIGNUP_LOCS_TEST.csv', 'rU') #Open your .csv file\n",
      "output_file = open('WIC_LOCS_GEO.csv', 'w') #Make an empty .csv This is where your geocodes will end up.\n",
      "data        = csv.reader(input_file)        #Read in the raw csv using the csv library \"reader\" function\n",
      "\n",
      "for line in data:\n",
      "    if line[0]!='site': #this excludes the header row, which starts with \"site\"\n",
      "        full_address=line[1]+\", \"+line[2]+\" \"+line[3] #build the input string\n",
      "        print \"Sent to Google:\",full_address\n",
      "        results=Geocoder.geocode(full_address)\n",
      "        lat          = [results.coordinates[0]]\n",
      "        long         = [results.coordinates[1]]\n",
      "        street_number= [results.street_number]\n",
      "        street_name  = [results.route]\n",
      "        city         = [results.city]\n",
      "        state        = [results.state]\n",
      "        zip          = [results.postal_code]\n",
      "        county       = [results.county]\n",
      "        new_line = [line[0]] + [line[1]] + street_number+street_name+city+state+zip+county+lat+long #build the output\n",
      "        csv.writer(output_file).writerow(new_line) #write line to csv file\n",
      "        time.sleep(.21)\n",
      "output_file.close()\n"
     ],
     "language": "python",
     "metadata": {},
     "outputs": [
      {
       "output_type": "stream",
       "stream": "stdout",
       "text": [
        "Sent to Google: 7200 Bancroft Avenue Suite 204, Oakland 94605\n",
        "Sent to Google:"
       ]
      },
      {
       "output_type": "stream",
       "stream": "stdout",
       "text": [
        " 39155 Liberty Street Suite H-840, Fremont 94538\n"
       ]
      }
     ],
     "prompt_number": 45
    },
    {
     "cell_type": "code",
     "collapsed": false,
     "input": [
      "#print results.raw\n",
      "#print type(results.raw) #i am a list\n",
      "#print type(results.raw[0]) # i am a dictionary\n",
      "#print results.raw[0].keys() #[u'geometry', u'address_components', u'place_id', u'formatted_address', u'types']\n",
      "#print results.raw[0][u'address_components']"
     ],
     "language": "python",
     "metadata": {},
     "outputs": [],
     "prompt_number": 47
    },
    {
     "cell_type": "code",
     "collapsed": false,
     "input": [
      "#original code\n",
      "def csvGeocoder(data):\n",
      "    for line in data:\n",
      "        [siteid,sitename,address,city,zip,phone] = line #Make sure the number of columns matches/aligns with the number of fields listed here.\n",
      "        if city == \"city\": #This skips the header. Don't geocode the header :D\n",
      "            Latitude = [\"Latitude\"]\n",
      "            Longitude = [\"Longitude\"] \n",
      "            new_line = line + Latitude + Longitude #This adds two new columns to your .csv, Latitude and Longitude.\n",
      "            csv.writer(output_file).writerow(new_line)\n",
      "            print new_line # This isn't required. I just like to watch.\n",
      "        else:\n",
      "            #I use a column with the Full Address (Street Number, Street, City, Provice/State, Country) But you could concatenate from multiple fields too.\n",
      "            results = Geocoder.geocode(address+city+zip)\n",
      "            Latitude = [results[0].coordinates[0]] \n",
      "            Longitude = [results[0].coordinates[1]]\n",
      "            new_line = line + Latitude + Longitude\n",
      "            csv.writer(output_file).writerow(new_line)\n",
      "            time.sleep(.25) #This throttles your requests. The GoogleAPI doesn't like too many requests per second.\n",
      "            print new_line #Printing to the console makes the process a lot longer. Omit for speed.\n",
      "    \n",
      "    #del url,City,Address,Ward,Status,ListDate,IntentionDate,ByLaw,PartIVDate,PartVDate,HeritageDistrict,DistrictStatus,HeritageEasement,RegistrationDate,BuildingType,ArchitectBuilder,ConstructionYear,Province,Country,FullAddress,Details,DemoDate,PrimaryAddress, line\n",
      "    #del data\n",
      "\n",
      "    input_file.close()\n",
      "    output_file.close()"
     ],
     "language": "python",
     "metadata": {},
     "outputs": []
    }
   ],
   "metadata": {}
  }
 ]
}