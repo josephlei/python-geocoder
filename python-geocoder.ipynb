{
 "cells": [
  {
   "cell_type": "markdown",
   "metadata": {},
   "source": [
    "####A modified version of Lauren Archer's Simple CSV Geocoder located at https://github.com/laurenarcher/SimpleCsvGeocoder\n",
    "\n",
    "####In this instance, it is used to geocode approximately 620 addresses for the Code for Sacramento WICIT project hosted live at www.findwic.com\n",
    "\n",
    "####Data limitations and notes: The Google Maps Geocoding API allows 2500 address requests per day per IP address or API key, unless you are a Google Work customer.  "
   ]
  },
  {
   "cell_type": "code",
   "execution_count": 1,
   "metadata": {
    "collapsed": false
   },
   "outputs": [],
   "source": [
    "import csv\n",
    "import time\n",
    "from pygeocoder import Geocoder"
   ]
  },
  {
   "cell_type": "markdown",
   "metadata": {
    "collapsed": false
   },
   "source": [
    "input_file  = open('API_WIC_SIGNUP_LOCS_TEST.csv', 'rU') #Open your .csv file\n",
    "output_file = open('WIC_LOCS_GEO.csv', 'w') #Make an empty .csv This is where your geocodes will end up.\n",
    "data        = csv.reader(input_file)        #Read in the raw csv using the csv library's \"reader\" function\n",
    "\n",
    "for line in data:\n",
    "    if line[0]!='site': #this excludes the header row, which starts with \"site\"\n",
    "        full_address=line[1]+\", \"+line[2]+\" \"+line[3] #build the input string\n",
    "        print \"Sent to Google:\",full_address #Visual confirmation of what was sent to Google's API, remove for minor speed boost\n",
    "        results=Geocoder.geocode(full_address) #Dump the returned object into \"results\" var\n",
    "        time.sleep(.21) #Google allows 5 geocodes per second for non Google Work customers, this throttles with a 1/100 sec margin\n",
    "output_file.close() #Close the output file to ensure all locks are released\n",
    "\n",
    "#In this code block, no items are written to output file, this is a dev/test block, NOT PROD"
   ]
  },
  {
   "cell_type": "code",
   "execution_count": 47,
   "metadata": {
    "collapsed": false
   },
   "outputs": [],
   "source": [
    "#this code block for dev/test exploration of data types and formats\n",
    "\n",
    "#print results.raw\n",
    "#print type(results.raw)     # i am a list\n",
    "#print type(results.raw[0])  # i am a dictionary\n",
    "#print results.raw[0].keys() # [u'geometry', u'address_components', u'place_id', u'formatted_address', u'types']\n",
    "#print results.raw[0][u'address_components']"
   ]
  },
  {
   "cell_type": "code",
   "execution_count": 45,
   "metadata": {
    "collapsed": false
   },
   "outputs": [
    {
     "name": "stdout",
     "output_type": "stream",
     "text": [
      "Sent to Google: 7200 Bancroft Avenue Suite 204, Oakland 94605\n",
      "Sent to Google: 39155 Liberty Street Suite H-840, Fremont 94538\n"
     ]
    }
   ],
   "source": [
    "#This code block is the first iteration of production, change to full file for \"real\" results, currently intakes a 2 row sample\n",
    "\n",
    "input_file  = open('WIC_SIGNUP_LOCATIONS_NO_GEODATA_TEST.csv', 'rU') #Open your .csv file\n",
    "output_file = open('WIC_LOCS_GEOCODED.csv', 'w') #Make an empty .csv This is where your geocodes will end up.\n",
    "data        = csv.reader(input_file)        #Read in the raw csv using the csv library \"reader\" function\n",
    "\n",
    "csv.writer(output_file).writerow(['location_name','full address','number','street','city','state','zip','county','lat','long'])\n",
    "    \n",
    "for line in data:\n",
    "    if line[0]!='site': #this excludes the header row, which starts with \"site\"\n",
    "        full_address=line[1]+\", \"+line[2]+\" \"+line[3] #build the input string\n",
    "        print \"Sent to Google:\",full_address #Visual confirmation of what was sent to Google's API, remove for minor speed boost\n",
    "        results=Geocoder.geocode(full_address) #Dump the returned object into \"results\" var\n",
    "        #next 8 lines to build the results objects I want to output to file, concurrently forcing them into a 1 item list\n",
    "        #This is intended as a brute force solution so initial prod can be completed.  Iteration for elegance forthcoming...\n",
    "        lat          = [results.coordinates[0]]\n",
    "        long         = [results.coordinates[1]]\n",
    "        street_number= [results.street_number]\n",
    "        street_name  = [results.route]\n",
    "        city         = [results.city]\n",
    "        state        = [results.state]\n",
    "        zip          = [results.postal_code]\n",
    "        county       = [results.county]\n",
    "        new_line = [line[0]] + [line[1]] + street_number+street_name+city+state+zip+county+lat+long #build the output\n",
    "        csv.writer(output_file).writerow(new_line) #write one line to csv file\n",
    "        time.sleep(.21)#Google allows 5 geocodes per second for non Google Work customers, this throttles with a 1/100 sec margin\n",
    "output_file.close() #Close the output file to ensure all locks are released"
   ]
  },
  {
   "cell_type": "markdown",
   "metadata": {
    "collapsed": false
   },
   "source": [
    "#original code from https://github.com/laurenarcher/SimpleCsvGeocoder\n",
    "\n",
    "def csvGeocoder(data):\n",
    "    for line in data:\n",
    "        [siteid,sitename,address,city,zip,phone] = line #Make sure the number of columns matches/aligns with the number of fields listed here.\n",
    "        if city == \"city\": #This skips the header. Don't geocode the header :D\n",
    "            Latitude = [\"Latitude\"]\n",
    "            Longitude = [\"Longitude\"] \n",
    "            new_line = line + Latitude + Longitude #This adds two new columns to your .csv, Latitude and Longitude.\n",
    "            csv.writer(output_file).writerow(new_line)\n",
    "            print new_line # This isn't required. I just like to watch.\n",
    "        else:\n",
    "            #I use a column with the Full Address (Street Number, Street, City, Provice/State, Country) But you could concatenate from multiple fields too.\n",
    "            results = Geocoder.geocode(address+city+zip)\n",
    "            Latitude = [results[0].coordinates[0]] \n",
    "            Longitude = [results[0].coordinates[1]]\n",
    "            new_line = line + Latitude + Longitude\n",
    "            csv.writer(output_file).writerow(new_line)\n",
    "            time.sleep(.25) #This throttles your requests. The GoogleAPI doesn't like too many requests per second.\n",
    "            print new_line #Printing to the console makes the process a lot longer. Omit for speed.\n",
    "    \n",
    "    #del url,City,Address,Ward,Status,ListDate,IntentionDate,ByLaw,PartIVDate,PartVDate,HeritageDistrict,DistrictStatus,HeritageEasement,RegistrationDate,BuildingType,ArchitectBuilder,ConstructionYear,Province,Country,FullAddress,Details,DemoDate,PrimaryAddress, line\n",
    "    #del data\n",
    "\n",
    "    input_file.close()\n",
    "    output_file.close()"
   ]
  }
 ],
 "metadata": {
  "kernelspec": {
   "display_name": "Python 2",
   "language": "python",
   "name": "python2"
  },
  "language_info": {
   "codemirror_mode": {
    "name": "ipython",
    "version": 2
   },
   "file_extension": ".py",
   "mimetype": "text/x-python",
   "name": "python",
   "nbconvert_exporter": "python",
   "pygments_lexer": "ipython2",
   "version": "2.7.9"
  }
 },
 "nbformat": 4,
 "nbformat_minor": 0
}
